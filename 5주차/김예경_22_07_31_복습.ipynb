{
 "cells": [
  {
   "cell_type": "markdown",
   "id": "74ebe4a1",
   "metadata": {},
   "source": [
    "# 판다스 dataframe & series"
   ]
  },
  {
   "cell_type": "markdown",
   "id": "ee9adc5f",
   "metadata": {},
   "source": [
    "## 데이터프레임 만들기"
   ]
  },
  {
   "cell_type": "code",
   "execution_count": 1,
   "id": "f618b761",
   "metadata": {},
   "outputs": [],
   "source": [
    "import pandas as pd"
   ]
  },
  {
   "cell_type": "code",
   "execution_count": 2,
   "id": "c0f9485e",
   "metadata": {},
   "outputs": [],
   "source": [
    "df = pd.Series(['yk','hi',3])"
   ]
  },
  {
   "cell_type": "code",
   "execution_count": 3,
   "id": "f162b243",
   "metadata": {},
   "outputs": [
    {
     "data": {
      "text/plain": [
       "0    yk\n",
       "1    hi\n",
       "2     3\n",
       "dtype: object"
      ]
     },
     "execution_count": 3,
     "metadata": {},
     "output_type": "execute_result"
    }
   ],
   "source": [
    "df"
   ]
  },
  {
   "cell_type": "code",
   "execution_count": 4,
   "id": "9e44b195",
   "metadata": {},
   "outputs": [],
   "source": [
    "# 인덱스 이용해 값 설정\n",
    "df = pd.Series(['yk','hi',3],index=['name','a','b'])"
   ]
  },
  {
   "cell_type": "code",
   "execution_count": 5,
   "id": "b330963a",
   "metadata": {},
   "outputs": [
    {
     "data": {
      "text/plain": [
       "name    yk\n",
       "a       hi\n",
       "b        3\n",
       "dtype: object"
      ]
     },
     "execution_count": 5,
     "metadata": {},
     "output_type": "execute_result"
    }
   ],
   "source": [
    "df"
   ]
  },
  {
   "cell_type": "code",
   "execution_count": 13,
   "id": "d165fa90",
   "metadata": {},
   "outputs": [],
   "source": [
    "# df 생성\n",
    "df_st = pd.DataFrame({'name':['yk','hi'],\n",
    "                     'b':['c','a'],\n",
    "                     'age':[11,12],\n",
    "                     'd':['dd','dddd']})"
   ]
  },
  {
   "cell_type": "code",
   "execution_count": 14,
   "id": "48b63614",
   "metadata": {},
   "outputs": [
    {
     "data": {
      "text/html": [
       "<div>\n",
       "<style scoped>\n",
       "    .dataframe tbody tr th:only-of-type {\n",
       "        vertical-align: middle;\n",
       "    }\n",
       "\n",
       "    .dataframe tbody tr th {\n",
       "        vertical-align: top;\n",
       "    }\n",
       "\n",
       "    .dataframe thead th {\n",
       "        text-align: right;\n",
       "    }\n",
       "</style>\n",
       "<table border=\"1\" class=\"dataframe\">\n",
       "  <thead>\n",
       "    <tr style=\"text-align: right;\">\n",
       "      <th></th>\n",
       "      <th>name</th>\n",
       "      <th>b</th>\n",
       "      <th>age</th>\n",
       "      <th>d</th>\n",
       "    </tr>\n",
       "  </thead>\n",
       "  <tbody>\n",
       "    <tr>\n",
       "      <th>0</th>\n",
       "      <td>yk</td>\n",
       "      <td>c</td>\n",
       "      <td>11</td>\n",
       "      <td>dd</td>\n",
       "    </tr>\n",
       "    <tr>\n",
       "      <th>1</th>\n",
       "      <td>hi</td>\n",
       "      <td>a</td>\n",
       "      <td>12</td>\n",
       "      <td>dddd</td>\n",
       "    </tr>\n",
       "  </tbody>\n",
       "</table>\n",
       "</div>"
      ],
      "text/plain": [
       "  name  b  age     d\n",
       "0   yk  c   11    dd\n",
       "1   hi  a   12  dddd"
      ]
     },
     "execution_count": 14,
     "metadata": {},
     "output_type": "execute_result"
    }
   ],
   "source": [
    "df_st"
   ]
  },
  {
   "cell_type": "code",
   "execution_count": 15,
   "id": "7bc55ac9",
   "metadata": {},
   "outputs": [],
   "source": [
    "df_st_1 = pd.DataFrame({'name':['yk','hi'],\n",
    "                     'b':['a','c'],\n",
    "                     'age':[11,12],\n",
    "                     'd':['dd','dddd']})"
   ]
  },
  {
   "cell_type": "code",
   "execution_count": 16,
   "id": "6f2d0c98",
   "metadata": {},
   "outputs": [
    {
     "data": {
      "text/html": [
       "<div>\n",
       "<style scoped>\n",
       "    .dataframe tbody tr th:only-of-type {\n",
       "        vertical-align: middle;\n",
       "    }\n",
       "\n",
       "    .dataframe tbody tr th {\n",
       "        vertical-align: top;\n",
       "    }\n",
       "\n",
       "    .dataframe thead th {\n",
       "        text-align: right;\n",
       "    }\n",
       "</style>\n",
       "<table border=\"1\" class=\"dataframe\">\n",
       "  <thead>\n",
       "    <tr style=\"text-align: right;\">\n",
       "      <th></th>\n",
       "      <th>name</th>\n",
       "      <th>b</th>\n",
       "      <th>age</th>\n",
       "      <th>d</th>\n",
       "    </tr>\n",
       "  </thead>\n",
       "  <tbody>\n",
       "    <tr>\n",
       "      <th>0</th>\n",
       "      <td>yk</td>\n",
       "      <td>a</td>\n",
       "      <td>11</td>\n",
       "      <td>dd</td>\n",
       "    </tr>\n",
       "    <tr>\n",
       "      <th>1</th>\n",
       "      <td>hi</td>\n",
       "      <td>c</td>\n",
       "      <td>12</td>\n",
       "      <td>dddd</td>\n",
       "    </tr>\n",
       "  </tbody>\n",
       "</table>\n",
       "</div>"
      ],
      "text/plain": [
       "  name  b  age     d\n",
       "0   yk  a   11    dd\n",
       "1   hi  c   12  dddd"
      ]
     },
     "execution_count": 16,
     "metadata": {},
     "output_type": "execute_result"
    }
   ],
   "source": [
    "df_st_1"
   ]
  },
  {
   "cell_type": "code",
   "execution_count": 18,
   "id": "a29349a2",
   "metadata": {},
   "outputs": [
    {
     "name": "stdout",
     "output_type": "stream",
     "text": [
      "  name  b  age     d\n",
      "0   yk  c   11    dd\n",
      "1   hi  a   12  dddd\n",
      "  name  b  age     d\n",
      "0   yk  a   11    dd\n",
      "1   hi  c   12  dddd\n"
     ]
    }
   ],
   "source": [
    "print(df_st)\n",
    "print(df_st_1)"
   ]
  },
  {
   "cell_type": "code",
   "execution_count": 20,
   "id": "2f11db94",
   "metadata": {},
   "outputs": [
    {
     "data": {
      "text/plain": [
       "0    yk\n",
       "1    hi\n",
       "Name: name, dtype: object"
      ]
     },
     "execution_count": 20,
     "metadata": {},
     "output_type": "execute_result"
    }
   ],
   "source": [
    "# df에서 시리즈 선택 방법\n",
    "df_st_1['name']"
   ]
  },
  {
   "cell_type": "code",
   "execution_count": 21,
   "id": "24e7cee1",
   "metadata": {},
   "outputs": [
    {
     "data": {
      "text/plain": [
       "0    yk\n",
       "1    hi\n",
       "Name: name, dtype: object"
      ]
     },
     "execution_count": 21,
     "metadata": {},
     "output_type": "execute_result"
    }
   ],
   "source": [
    "df_st_1.loc[:,'name']"
   ]
  },
  {
   "cell_type": "markdown",
   "id": "93ff89a9",
   "metadata": {},
   "source": [
    "# 시리즈에 사용하는 메서드\n",
    "- index\n",
    "- values\n",
    "- keys"
   ]
  },
  {
   "cell_type": "markdown",
   "id": "1583e7ea",
   "metadata": {},
   "source": [
    "# df에서 하나의 열 추출해 시리즈 형태로 반환되었을 때 사용 가능한 메서드\n",
    "- 시리즈 메서드\n",
    "- append 2개 이상의 시리즈 연결\n",
    "- describe 요약 통계\n",
    "- drop_duplicates 중복 값이 없는 시리즈 반환\n",
    "- equals 시리즈에 해당 값이 있는지 확인\n",
    "- get_values 시리즈 값 구하기( =values )\n",
    "- isin 시리즈에 포함된 값이 있는지 \n",
    "- min, max, mean, median\n",
    "- replace 특정 값을 가진 시리즈 값 교체\n",
    "- sample 임의의 값 반환\n",
    "- sort_values 정렬\n",
    "- to_frame 시리즈 -> df로 반환"
   ]
  },
  {
   "cell_type": "code",
   "execution_count": 23,
   "id": "d670330a",
   "metadata": {},
   "outputs": [
    {
     "data": {
      "text/html": [
       "<div>\n",
       "<style scoped>\n",
       "    .dataframe tbody tr th:only-of-type {\n",
       "        vertical-align: middle;\n",
       "    }\n",
       "\n",
       "    .dataframe tbody tr th {\n",
       "        vertical-align: top;\n",
       "    }\n",
       "\n",
       "    .dataframe thead th {\n",
       "        text-align: right;\n",
       "    }\n",
       "</style>\n",
       "<table border=\"1\" class=\"dataframe\">\n",
       "  <thead>\n",
       "    <tr style=\"text-align: right;\">\n",
       "      <th></th>\n",
       "      <th>name</th>\n",
       "      <th>b</th>\n",
       "      <th>age</th>\n",
       "      <th>d</th>\n",
       "    </tr>\n",
       "  </thead>\n",
       "  <tbody>\n",
       "    <tr>\n",
       "      <th>0</th>\n",
       "      <td>yk</td>\n",
       "      <td>a</td>\n",
       "      <td>11</td>\n",
       "      <td>dd</td>\n",
       "    </tr>\n",
       "    <tr>\n",
       "      <th>1</th>\n",
       "      <td>hi</td>\n",
       "      <td>c</td>\n",
       "      <td>12</td>\n",
       "      <td>dddd</td>\n",
       "    </tr>\n",
       "  </tbody>\n",
       "</table>\n",
       "</div>"
      ],
      "text/plain": [
       "  name  b  age     d\n",
       "0   yk  a   11    dd\n",
       "1   hi  c   12  dddd"
      ]
     },
     "execution_count": 23,
     "metadata": {},
     "output_type": "execute_result"
    }
   ],
   "source": [
    "df_st_1"
   ]
  },
  {
   "cell_type": "code",
   "execution_count": 22,
   "id": "d00cedb2",
   "metadata": {},
   "outputs": [
    {
     "data": {
      "text/plain": [
       "RangeIndex(start=0, stop=2, step=1)"
      ]
     },
     "execution_count": 22,
     "metadata": {},
     "output_type": "execute_result"
    }
   ],
   "source": [
    "df_st_1.index # index"
   ]
  },
  {
   "cell_type": "code",
   "execution_count": 24,
   "id": "00cb9564",
   "metadata": {},
   "outputs": [
    {
     "data": {
      "text/plain": [
       "array([['yk', 'a', 11, 'dd'],\n",
       "       ['hi', 'c', 12, 'dddd']], dtype=object)"
      ]
     },
     "execution_count": 24,
     "metadata": {},
     "output_type": "execute_result"
    }
   ],
   "source": [
    "df_st_1.values # 속성 값"
   ]
  },
  {
   "cell_type": "code",
   "execution_count": 26,
   "id": "70ae859a",
   "metadata": {},
   "outputs": [
    {
     "data": {
      "text/plain": [
       "Index(['name', 'b', 'age', 'd'], dtype='object')"
      ]
     },
     "execution_count": 26,
     "metadata": {},
     "output_type": "execute_result"
    }
   ],
   "source": [
    "df_st_1.keys() # 컬럼의 개념"
   ]
  },
  {
   "cell_type": "code",
   "execution_count": 28,
   "id": "ab7c8210",
   "metadata": {},
   "outputs": [
    {
     "data": {
      "text/plain": [
       "'d'"
      ]
     },
     "execution_count": 28,
     "metadata": {},
     "output_type": "execute_result"
    }
   ],
   "source": [
    "df_st_1.keys()[3]"
   ]
  },
  {
   "cell_type": "code",
   "execution_count": 29,
   "id": "07b93c19",
   "metadata": {},
   "outputs": [],
   "source": [
    "# 시리즈 값 자체로 mean, min, max, std 메서드 사용 가능"
   ]
  },
  {
   "cell_type": "code",
   "execution_count": 31,
   "id": "50fdeef5",
   "metadata": {},
   "outputs": [],
   "source": [
    "ages = df_st_1['age']"
   ]
  },
  {
   "cell_type": "code",
   "execution_count": 32,
   "id": "94b774b2",
   "metadata": {},
   "outputs": [
    {
     "data": {
      "text/plain": [
       "11"
      ]
     },
     "execution_count": 32,
     "metadata": {},
     "output_type": "execute_result"
    }
   ],
   "source": [
    "ages.min()"
   ]
  },
  {
   "cell_type": "code",
   "execution_count": 33,
   "id": "729d8010",
   "metadata": {},
   "outputs": [
    {
     "data": {
      "text/plain": [
       "count     2.000000\n",
       "mean     11.500000\n",
       "std       0.707107\n",
       "min      11.000000\n",
       "25%      11.250000\n",
       "50%      11.500000\n",
       "75%      11.750000\n",
       "max      12.000000\n",
       "Name: age, dtype: float64"
      ]
     },
     "execution_count": 33,
     "metadata": {},
     "output_type": "execute_result"
    }
   ],
   "source": [
    "ages.describe()"
   ]
  },
  {
   "cell_type": "code",
   "execution_count": 34,
   "id": "79818e94",
   "metadata": {},
   "outputs": [
    {
     "data": {
      "text/plain": [
       "0    11\n",
       "1    12\n",
       "Name: age, dtype: int64"
      ]
     },
     "execution_count": 34,
     "metadata": {},
     "output_type": "execute_result"
    }
   ],
   "source": [
    "ages.sort_values()"
   ]
  },
  {
   "cell_type": "code",
   "execution_count": null,
   "id": "cf7141cf",
   "metadata": {},
   "outputs": [],
   "source": [
    "# 시리즈에서 비교"
   ]
  },
  {
   "cell_type": "code",
   "execution_count": 36,
   "id": "f880720d",
   "metadata": {},
   "outputs": [],
   "source": [
    "mpg = pd.read_csv('../mpg.csv')"
   ]
  },
  {
   "cell_type": "code",
   "execution_count": 37,
   "id": "8d3331da",
   "metadata": {},
   "outputs": [],
   "source": [
    "ctys=mpg['cty']"
   ]
  },
  {
   "cell_type": "code",
   "execution_count": 38,
   "id": "a6c3010d",
   "metadata": {},
   "outputs": [
    {
     "data": {
      "text/plain": [
       "0      18\n",
       "1      21\n",
       "2      20\n",
       "3      21\n",
       "5      18\n",
       "       ..\n",
       "228    18\n",
       "229    19\n",
       "230    21\n",
       "232    18\n",
       "233    17\n",
       "Name: cty, Length: 118, dtype: int64"
      ]
     },
     "execution_count": 38,
     "metadata": {},
     "output_type": "execute_result"
    }
   ],
   "source": [
    "ctys[ctys>ctys.mean()] # 비교"
   ]
  },
  {
   "cell_type": "code",
   "execution_count": null,
   "id": "56332462",
   "metadata": {},
   "outputs": [],
   "source": [
    "# broadcasting : 한번에 연결"
   ]
  },
  {
   "cell_type": "code",
   "execution_count": 39,
   "id": "f349a944",
   "metadata": {},
   "outputs": [
    {
     "data": {
      "text/plain": [
       "0      36\n",
       "1      42\n",
       "2      40\n",
       "3      42\n",
       "4      32\n",
       "       ..\n",
       "229    38\n",
       "230    42\n",
       "231    32\n",
       "232    36\n",
       "233    34\n",
       "Name: cty, Length: 234, dtype: int64"
      ]
     },
     "execution_count": 39,
     "metadata": {},
     "output_type": "execute_result"
    }
   ],
   "source": [
    "print(ctys+ctys)  # 시리즈끼리 연산"
   ]
  },
  {
   "cell_type": "code",
   "execution_count": 40,
   "id": "5dfff1e9",
   "metadata": {},
   "outputs": [
    {
     "name": "stdout",
     "output_type": "stream",
     "text": [
      "0      118\n",
      "1      121\n",
      "2      120\n",
      "3      121\n",
      "4      116\n",
      "      ... \n",
      "229    119\n",
      "230    121\n",
      "231    116\n",
      "232    118\n",
      "233    117\n",
      "Name: cty, Length: 234, dtype: int64\n"
     ]
    }
   ],
   "source": [
    "print(ctys+100) # 값에 대해"
   ]
  },
  {
   "cell_type": "code",
   "execution_count": 41,
   "id": "f153ac98",
   "metadata": {},
   "outputs": [
    {
     "data": {
      "text/plain": [
       "0      118\n",
       "1      121\n",
       "2      120\n",
       "3      121\n",
       "4      116\n",
       "      ... \n",
       "229    119\n",
       "230    121\n",
       "231    116\n",
       "232    118\n",
       "233    117\n",
       "Name: cty, Length: 234, dtype: int64"
      ]
     },
     "execution_count": 41,
     "metadata": {},
     "output_type": "execute_result"
    }
   ],
   "source": [
    "mpg['cty']+100"
   ]
  },
  {
   "cell_type": "code",
   "execution_count": null,
   "id": "1e5111c3",
   "metadata": {},
   "outputs": [],
   "source": [
    "# df 다루기"
   ]
  },
  {
   "cell_type": "code",
   "execution_count": null,
   "id": "41b8f718",
   "metadata": {},
   "outputs": [],
   "source": []
  }
 ],
 "metadata": {
  "kernelspec": {
   "display_name": "Python 3 (ipykernel)",
   "language": "python",
   "name": "python3"
  },
  "language_info": {
   "codemirror_mode": {
    "name": "ipython",
    "version": 3
   },
   "file_extension": ".py",
   "mimetype": "text/x-python",
   "name": "python",
   "nbconvert_exporter": "python",
   "pygments_lexer": "ipython3",
   "version": "3.7.9"
  }
 },
 "nbformat": 4,
 "nbformat_minor": 5
}
