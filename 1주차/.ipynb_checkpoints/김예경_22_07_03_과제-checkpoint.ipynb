{
 "cells": [
  {
   "cell_type": "code",
   "execution_count": 1,
   "id": "ee056822",
   "metadata": {},
   "outputs": [],
   "source": [
    "import pandas as pd"
   ]
  },
  {
   "cell_type": "markdown",
   "id": "883203c9",
   "metadata": {},
   "source": [
    "# 과제\n",
    "- 통합 연비가 가장 좋은 차는 무엇일까?\n",
    "- 통합 연비가 가장 안 좋은 차는 무엇일까?"
   ]
  },
  {
   "cell_type": "markdown",
   "id": "4ee7749f",
   "metadata": {},
   "source": [
    "# 과제\n",
    "- 중첩 조건문을 이용해서 다양한 파생변수를 만들기\n",
    "- ex) 연비 또는 새로운 파생변수의 값에 따라 등급을 더 다양하게 나누기. 10이하 C, 10~15 B, 등"
   ]
  },
  {
   "cell_type": "code",
   "execution_count": null,
   "id": "02bee03f",
   "metadata": {},
   "outputs": [],
   "source": []
  }
 ],
 "metadata": {
  "kernelspec": {
   "display_name": "Python 3 (ipykernel)",
   "language": "python",
   "name": "python3"
  },
  "language_info": {
   "codemirror_mode": {
    "name": "ipython",
    "version": 3
   },
   "file_extension": ".py",
   "mimetype": "text/x-python",
   "name": "python",
   "nbconvert_exporter": "python",
   "pygments_lexer": "ipython3",
   "version": "3.7.9"
  }
 },
 "nbformat": 4,
 "nbformat_minor": 5
}
